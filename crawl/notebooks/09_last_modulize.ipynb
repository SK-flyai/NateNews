{
 "cells": [
  {
   "cell_type": "code",
   "execution_count": 1,
   "metadata": {},
   "outputs": [],
   "source": [
    "%load_ext autoreload\n",
    "%autoreload 2"
   ]
  },
  {
   "cell_type": "code",
   "execution_count": 2,
   "metadata": {},
   "outputs": [],
   "source": [
    "import sys\n",
    "sys.path.append('..')"
   ]
  },
  {
   "cell_type": "code",
   "execution_count": 4,
   "metadata": {},
   "outputs": [],
   "source": [
    "from nate import news_keyword, news_ranking"
   ]
  },
  {
   "cell_type": "code",
   "execution_count": 8,
   "metadata": {},
   "outputs": [
    {
     "name": "stderr",
     "output_type": "stream",
     "text": [
      "c:\\Users\\013\\anaconda3\\envs\\NateNews\\lib\\site-packages\\sklearn\\feature_extraction\\text.py:528: UserWarning: The parameter 'token_pattern' will not be used since 'tokenizer' is not None'\n",
      "  warnings.warn(\n"
     ]
    },
    {
     "name": "stdout",
     "output_type": "stream",
     "text": [
      "Inference Time of keys : 1.3471622467041016\n",
      "\n",
      "\n",
      "https://news.nate.com/view/20230220n06275 has too short article!\n",
      "https://news.nate.com/view/20230223n33880 has too short article!\n",
      "https://news.nate.com/view/20230222n05086 is Entertainment News!\n",
      "https://news.nate.com/view/20230219n15324 has too short article!\n",
      "https://news.nate.com/view/20230208n37529 is Entertainment News!\n",
      "https://news.nate.com/view/20230221n38203 is Entertainment News!\n",
      "Inference Time of recom articles : 9.023291826248169\n",
      "\n",
      "\n"
     ]
    }
   ],
   "source": [
    "doc = '/사진=이미지투데이자취하는 30대 여성이 집에 놀러 온 친구가 아이의 기저귀를 버리고 가 불쾌했다는 사연이 전해졌다. 해당 사연에 누리꾼 반응은 엇갈렸다. \\n21일 온라인 커뮤니티 네이트판에는 똥 기저귀 쓰레기통에 그냥 버리시나요?라는 글이 올라와 화제다. \\n\\n30대 미혼 여성이라고 밝힌 글쓴이 A씨는 \"며칠 전 친구가 아이들을 데리고 우리 집에 놀러 왔다. 워낙 친한 친구라 저도 아이들 자주 보며 아이들 데리고 오는 것 전혀 안 불편했다\"고 적었다. \\n\\n이어 \"커튼에 코딱지를 묻힐 때도, 카펫에 음식을 쏟았을 때도, 아끼던 컵을 깼을 때도 아기들이 충분히 할 수 있는 행동이고 친구도 초 단위로 아기를 항상 볼 수 없다는 것도 잘 알고있다\"고 했다. \\n\\n그러면서 \"그런데 이거 하나는 이해가 안된다\"며 \"아기가 용변을 봐서 기저귀를 갈았다.그래서 옆에서 도와주며 기저귀를 받아서 위생봉투에 넣어 쓰레기통에 넣었다. 그리고 친구가 가고 뒷정리를 하면서 쓰레기통을 보는데 애기가 한 번 더 용변을 봤는지 쓰레기통을 열자마자 악취가 장난이 아니었다\"고 당시 상황을 묘사했다. \\n\\n그러면서 \"원래 똥 기저귀를 그냥 쓰레기통에 버리는 것인가. 본인 집에서는 모르겠지만 남의 집에 가서 그냥 버리는 게 저는 예의가 아니라 생각한다\"고 질문을 던졌다.\\n\\n누리꾼들의 반응은 엇갈렸다. 친한 친구 맞냐며 글쓴이를 지적하는 반응부터 아이 기저귀 악취가 상당하다며 글쓴이에게 공감하는 반응 등이다. \\n\\n한 누리꾼은 \"생판 모르는 사람집에 간 것도 아니고 친구 집인데 기저귀 간 게 휴지통에 있으면 바로바로 버리면 되지 이 정도도 이해 못하는 거면 친구 맞냐\"며 \"이정도가 신경 쓰이고 짜증날 정도의 사람이라면 친구라고 안한다\"고 적었다. 해당 댓글은 가장 많은 공감을 받았다. \\n\\n반면 다른 누리꾼은 \"아기없는 친구집으로 놀러가면 기저귀 갈은 건 무조건 따로 싸가지고 온다\"며 \"애기 키우는 집에서는 친구가 괜찮다고 버리라는데도 미안한 마음이 들더라\"고 했다. \\n\\n이어 또 다른 누리꾼은 \"요즘 아이 엄마들 정말 눈치많이보며 사는것 같다. 눈물이 다 나려고 한다\"고 쓰기도 했다.'\n",
    "title = '\"우리집에 똥기저귀 버리고 간 친구, 불쾌\" 30대女사연에 \\'와글\\''\n",
    "\n",
    "keyword = news_keyword(doc, title)"
   ]
  },
  {
   "cell_type": "code",
   "execution_count": 8,
   "metadata": {},
   "outputs": [
    {
     "name": "stdout",
     "output_type": "stream",
     "text": [
      "hi\n"
     ]
    },
    {
     "name": "stderr",
     "output_type": "stream",
     "text": [
      "c:\\Users\\013\\anaconda3\\envs\\NateNews\\lib\\site-packages\\sklearn\\feature_extraction\\text.py:528: UserWarning: The parameter 'token_pattern' will not be used since 'tokenizer' is not None'\n",
      "  warnings.warn(\n"
     ]
    },
    {
     "name": "stdout",
     "output_type": "stream",
     "text": [
      "Inference Time of keys : 2.178269147872925\n",
      "\n",
      "\n",
      "https://news.nate.com/view/20230220n06275 has too short article!\n",
      "https://news.nate.com/view/20230223n33880 has too short article!\n",
      "https://news.nate.com/view/20230219n15324 has too short article!\n",
      "https://news.nate.com/view/20230208n37529 is Entertainment News!\n",
      "https://news.nate.com/view/20230221n38203 is Entertainment News!\n",
      "https://news.nate.com/view/20230222n05086 is Entertainment News!\n",
      "Inference Time of recom articles : 8.859714269638062\n",
      "\n",
      "\n",
      "휴지통\n"
     ]
    }
   ],
   "source": [
    "\n",
    "\n",
    "print(list(keyword['keyword'].keys())[0])"
   ]
  }
 ],
 "metadata": {
  "kernelspec": {
   "display_name": "NateNews",
   "language": "python",
   "name": "python3"
  },
  "language_info": {
   "codemirror_mode": {
    "name": "ipython",
    "version": 3
   },
   "file_extension": ".py",
   "mimetype": "text/x-python",
   "name": "python",
   "nbconvert_exporter": "python",
   "pygments_lexer": "ipython3",
   "version": "3.8.16"
  },
  "orig_nbformat": 4,
  "vscode": {
   "interpreter": {
    "hash": "4708620b10493a999372e3b4edb28d055882eaad8a8aceb991cd20630b3c455b"
   }
  }
 },
 "nbformat": 4,
 "nbformat_minor": 2
}
