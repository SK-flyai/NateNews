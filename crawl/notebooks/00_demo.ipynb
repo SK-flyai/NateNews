{
 "cells": [
  {
   "cell_type": "code",
   "execution_count": 1,
   "metadata": {},
   "outputs": [],
   "source": [
    "%load_ext autoreload\n",
    "%autoreload 2"
   ]
  },
  {
   "cell_type": "code",
   "execution_count": 2,
   "metadata": {},
   "outputs": [],
   "source": [
    "import sys\n",
    "sys.path.append('..')"
   ]
  },
  {
   "cell_type": "code",
   "execution_count": 3,
   "metadata": {},
   "outputs": [],
   "source": [
    "from utils import get_urls, get_news, get_news_df"
   ]
  },
  {
   "cell_type": "code",
<<<<<<< HEAD
<<<<<<< HEAD
   "execution_count": null,
=======
   "execution_count": 18,
   "metadata": {},
   "outputs": [],
   "source": [
    "# url_list 생성\n",
    "# 2022년 3월 1일의 기사들 주소 1000개를 받아 오기\n",
    "# url_list = get_urls(20220301, artc1=1, artc2=1000)\n",
    "url = ''\n",
    "news_list = get_news(url)"
   ]
  },
  {
   "cell_type": "code",
   "execution_count": 24,
>>>>>>> f1db59e (Style: no change)
   "metadata": {},
   "outputs": [
    {
     "ename": "AttributeError",
     "evalue": "'NoneType' object has no attribute 'select'",
     "output_type": "error",
     "traceback": [
      "\u001b[0;31m---------------------------------------------------------------------------\u001b[0m",
      "\u001b[0;31mAttributeError\u001b[0m                            Traceback (most recent call last)",
      "Cell \u001b[0;32mIn[24], line 12\u001b[0m\n\u001b[1;32m      2\u001b[0m url \u001b[39m=\u001b[39m \u001b[39m'\u001b[39m\u001b[39m\\\u001b[39;00m\n\u001b[1;32m      3\u001b[0m \u001b[39mhttps://news.nate.com/view/20230219n11254\u001b[39m\u001b[39m\\\u001b[39;00m\n\u001b[1;32m      4\u001b[0m \u001b[39m'\u001b[39m\n\u001b[1;32m      5\u001b[0m url \u001b[39m=\u001b[39m [\n\u001b[1;32m      6\u001b[0m     \u001b[39m'\u001b[39m\u001b[39mhttps://news.nate.com/view/20230219n16598?mid=n1101\u001b[39m\u001b[39m'\u001b[39m,\n\u001b[1;32m      7\u001b[0m     \u001b[39m'\u001b[39m\u001b[39mhttps://news.nate.com/view/20230219n08433\u001b[39m\u001b[39m'\u001b[39m,\n\u001b[1;32m      8\u001b[0m     \u001b[39m'\u001b[39m\u001b[39mhttps://news.nate.com/view/20230219n07913?mid=n0400\u001b[39m\u001b[39m'\u001b[39m,\n\u001b[1;32m      9\u001b[0m     \u001b[39m'\u001b[39m\u001b[39m//news.nate.com/view/20230229n11254\u001b[39m\u001b[39m'\u001b[39m,\n\u001b[1;32m     10\u001b[0m ]\n\u001b[0;32m---> 12\u001b[0m news_list \u001b[39m=\u001b[39m get_news(url)\n\u001b[1;32m     13\u001b[0m df \u001b[39m=\u001b[39m get_news_df(news_list)\u001b[39m.\u001b[39mloc[\u001b[39m0\u001b[39m][\u001b[39m'\u001b[39m\u001b[39mcontent\u001b[39m\u001b[39m'\u001b[39m]\n\u001b[1;32m     14\u001b[0m \u001b[39mprint\u001b[39m(df)\n",
      "File \u001b[0;32m~/Downloads/SK AI/NateNews/crawl/notebooks/../utils.py:61\u001b[0m, in \u001b[0;36mget_news\u001b[0;34m(url_list)\u001b[0m\n\u001b[1;32m     59\u001b[0m     with ThreadPoolExecutor(max_workers=10) as mult:\n\u001b[1;32m     60\u001b[0m         _news_list = list(mult.map(_create, url_list))\n\u001b[0;32m---> 61\u001b[0m else:\n\u001b[1;32m     62\u001b[0m     # _news_list = [_create(url) for url in url_list]\n\u001b[1;32m     63\u001b[0m     _news_list = list()\n\u001b[1;32m     64\u001b[0m     for url in url_list:\n",
      "File \u001b[0;32m~/opt/anaconda3/envs/crawl/lib/python3.8/concurrent/futures/_base.py:619\u001b[0m, in \u001b[0;36mExecutor.map.<locals>.result_iterator\u001b[0;34m()\u001b[0m\n\u001b[1;32m    616\u001b[0m \u001b[39mwhile\u001b[39;00m fs:\n\u001b[1;32m    617\u001b[0m     \u001b[39m# Careful not to keep a reference to the popped future\u001b[39;00m\n\u001b[1;32m    618\u001b[0m     \u001b[39mif\u001b[39;00m timeout \u001b[39mis\u001b[39;00m \u001b[39mNone\u001b[39;00m:\n\u001b[0;32m--> 619\u001b[0m         \u001b[39myield\u001b[39;00m fs\u001b[39m.\u001b[39;49mpop()\u001b[39m.\u001b[39;49mresult()\n\u001b[1;32m    620\u001b[0m     \u001b[39melse\u001b[39;00m:\n\u001b[1;32m    621\u001b[0m         \u001b[39myield\u001b[39;00m fs\u001b[39m.\u001b[39mpop()\u001b[39m.\u001b[39mresult(end_time \u001b[39m-\u001b[39m time\u001b[39m.\u001b[39mmonotonic())\n",
      "File \u001b[0;32m~/opt/anaconda3/envs/crawl/lib/python3.8/concurrent/futures/_base.py:444\u001b[0m, in \u001b[0;36mFuture.result\u001b[0;34m(self, timeout)\u001b[0m\n\u001b[1;32m    442\u001b[0m     \u001b[39mraise\u001b[39;00m CancelledError()\n\u001b[1;32m    443\u001b[0m \u001b[39melif\u001b[39;00m \u001b[39mself\u001b[39m\u001b[39m.\u001b[39m_state \u001b[39m==\u001b[39m FINISHED:\n\u001b[0;32m--> 444\u001b[0m     \u001b[39mreturn\u001b[39;00m \u001b[39mself\u001b[39;49m\u001b[39m.\u001b[39;49m__get_result()\n\u001b[1;32m    445\u001b[0m \u001b[39melse\u001b[39;00m:\n\u001b[1;32m    446\u001b[0m     \u001b[39mraise\u001b[39;00m \u001b[39mTimeoutError\u001b[39;00m()\n",
      "File \u001b[0;32m~/opt/anaconda3/envs/crawl/lib/python3.8/concurrent/futures/_base.py:389\u001b[0m, in \u001b[0;36mFuture.__get_result\u001b[0;34m(self)\u001b[0m\n\u001b[1;32m    387\u001b[0m \u001b[39mif\u001b[39;00m \u001b[39mself\u001b[39m\u001b[39m.\u001b[39m_exception:\n\u001b[1;32m    388\u001b[0m     \u001b[39mtry\u001b[39;00m:\n\u001b[0;32m--> 389\u001b[0m         \u001b[39mraise\u001b[39;00m \u001b[39mself\u001b[39m\u001b[39m.\u001b[39m_exception\n\u001b[1;32m    390\u001b[0m     \u001b[39mfinally\u001b[39;00m:\n\u001b[1;32m    391\u001b[0m         \u001b[39m# Break a reference cycle with the exception in self._exception\u001b[39;00m\n\u001b[1;32m    392\u001b[0m         \u001b[39mself\u001b[39m \u001b[39m=\u001b[39m \u001b[39mNone\u001b[39;00m\n",
      "File \u001b[0;32m~/opt/anaconda3/envs/crawl/lib/python3.8/concurrent/futures/thread.py:57\u001b[0m, in \u001b[0;36m_WorkItem.run\u001b[0;34m(self)\u001b[0m\n\u001b[1;32m     54\u001b[0m     \u001b[39mreturn\u001b[39;00m\n\u001b[1;32m     56\u001b[0m \u001b[39mtry\u001b[39;00m:\n\u001b[0;32m---> 57\u001b[0m     result \u001b[39m=\u001b[39m \u001b[39mself\u001b[39;49m\u001b[39m.\u001b[39;49mfn(\u001b[39m*\u001b[39;49m\u001b[39mself\u001b[39;49m\u001b[39m.\u001b[39;49margs, \u001b[39m*\u001b[39;49m\u001b[39m*\u001b[39;49m\u001b[39mself\u001b[39;49m\u001b[39m.\u001b[39;49mkwargs)\n\u001b[1;32m     58\u001b[0m \u001b[39mexcept\u001b[39;00m \u001b[39mBaseException\u001b[39;00m \u001b[39mas\u001b[39;00m exc:\n\u001b[1;32m     59\u001b[0m     \u001b[39mself\u001b[39m\u001b[39m.\u001b[39mfuture\u001b[39m.\u001b[39mset_exception(exc)\n",
      "File \u001b[0;32m~/Downloads/SK AI/NateNews/crawl/notebooks/../utils.py:224\u001b[0m, in \u001b[0;36m_create\u001b[0;34m(url)\u001b[0m\n\u001b[1;32m    221\u001b[0m     \u001b[39mreturn\u001b[39;00m \u001b[39mNone\u001b[39;00m\n\u001b[1;32m    223\u001b[0m \u001b[39m# 연합 뉴스들 제외\u001b[39;00m\n\u001b[0;32m--> 224\u001b[0m \u001b[39mif\u001b[39;00m new_class\u001b[39m.\u001b[39;49mpress \u001b[39m==\u001b[39m \u001b[39m'\u001b[39m\u001b[39mAP연합뉴스\u001b[39m\u001b[39m'\u001b[39m \u001b[39mor\u001b[39;00m new_class\u001b[39m.\u001b[39mpress \u001b[39m==\u001b[39m \u001b[39m'\u001b[39m\u001b[39mEPA연합뉴스\u001b[39m\u001b[39m'\u001b[39m:\n\u001b[1;32m    225\u001b[0m     \u001b[39mreturn\u001b[39;00m \u001b[39mNone\u001b[39;00m\n\u001b[1;32m    227\u001b[0m article \u001b[39m=\u001b[39m new_class\u001b[39m.\u001b[39mcontent\u001b[39m.\u001b[39mfind(\n\u001b[1;32m    228\u001b[0m     \u001b[39m'\u001b[39m\u001b[39mdiv\u001b[39m\u001b[39m'\u001b[39m,\n\u001b[1;32m    229\u001b[0m     {\u001b[39m'\u001b[39m\u001b[39mid\u001b[39m\u001b[39m'\u001b[39m: \u001b[39m'\u001b[39m\u001b[39marticleContetns\u001b[39m\u001b[39m'\u001b[39m}\n\u001b[1;32m    230\u001b[0m )\n",
      "File \u001b[0;32m~/Downloads/SK AI/NateNews/crawl/notebooks/../news_crawl.py:45\u001b[0m, in \u001b[0;36mNateNews.press\u001b[0;34m(self)\u001b[0m\n\u001b[1;32m     43\u001b[0m \u001b[39m@property\u001b[39m\n\u001b[1;32m     44\u001b[0m \u001b[39mdef\u001b[39;00m \u001b[39mpress\u001b[39m(\u001b[39mself\u001b[39m):\n\u001b[0;32m---> 45\u001b[0m     \u001b[39mreturn\u001b[39;00m \u001b[39mself\u001b[39;49m\u001b[39m.\u001b[39;49m_get_press()\n",
      "File \u001b[0;32m~/Downloads/SK AI/NateNews/crawl/notebooks/../news_crawl.py:66\u001b[0m, in \u001b[0;36mNateNews._get_press\u001b[0;34m(self)\u001b[0m\n\u001b[1;32m     64\u001b[0m     press \u001b[39m=\u001b[39m _press\u001b[39m.\u001b[39mtext\n\u001b[1;32m     65\u001b[0m \u001b[39melse\u001b[39;00m:\n\u001b[0;32m---> 66\u001b[0m     press \u001b[39m=\u001b[39m \u001b[39mself\u001b[39;49m\u001b[39m.\u001b[39;49mcontent\u001b[39m.\u001b[39;49mfind(\u001b[39m'\u001b[39;49m\u001b[39mdl\u001b[39;49m\u001b[39m'\u001b[39;49m, {\u001b[39m'\u001b[39;49m\u001b[39mclass\u001b[39;49m\u001b[39m'\u001b[39;49m: \u001b[39m'\u001b[39;49m\u001b[39marticleInfo\u001b[39;49m\u001b[39m'\u001b[39;49m})\u001b[39m.\u001b[39;49mselect(\u001b[39m'\u001b[39m\u001b[39mimg\u001b[39m\u001b[39m'\u001b[39m)[\u001b[39m0\u001b[39m][\u001b[39m'\u001b[39m\u001b[39malt\u001b[39m\u001b[39m'\u001b[39m]\n\u001b[1;32m     67\u001b[0m \u001b[39mreturn\u001b[39;00m press\n",
      "\u001b[0;31mAttributeError\u001b[0m: 'NoneType' object has no attribute 'select'"
     ]
    }
   ],
   "source": [
=======
   "execution_count": null,
   "metadata": {},
   "outputs": [],
   "source": [
>>>>>>> a4336c8 (Style: minor thing)
    "# news_list 생성\n",
    "url = '\\\n",
    "https://news.nate.com/view/20230219n11254\\\n",
    "'\n",
<<<<<<< HEAD
<<<<<<< HEAD
    "\n",
    "news_list = get_news(url)\n",
    "try:\n",
    "    df = get_news_df(news_list).loc[0]['content']\n",
    "    print(df)\n",
    "except:\n",
    "    print(\"Error Occured!\")"
=======
    "url = [\n",
    "    'https://news.nate.com/view/20230219n16598?mid=n1101',\n",
    "    'https://news.nate.com/view/20230219n08433',\n",
    "    'https://news.nate.com/view/20230219n07913?mid=n0400',\n",
    "    '//news.nate.com/view/20230229n11254',\n",
    "]\n",
=======
>>>>>>> a4336c8 (Style: minor thing)
    "\n",
    "news_list = get_news(url)\n",
    "try:\n",
    "    df = get_news_df(news_list).loc[0]['content']\n",
    "    print(df)\n",
    "except:\n",
    "    print(\"Error Occured!\")"
   ]
  },
  {
   "cell_type": "code",
<<<<<<< HEAD
   "execution_count": 43,
   "metadata": {},
   "outputs": [
    {
     "data": {
      "text/plain": [
       "{'title': 'BOSS 골프까지 왔다…백화점들, 불황에도 고급 골프 마케팅 공들이는 까닭은',\n",
       " 'category': 'X',\n",
       " 'press': '한국일보',\n",
       " 'date': '2023-02-19 21:01',\n",
       " 'content': '17일부터 신세계강남점, 골프 전문관 리뉴얼 오픈\\n신세계백화점 강남점이 국내 최고 수준의 프리미엄 골프 전문관을 선보인다. 올해 전체 골프 용품 시장은 성장세가 주춤할 것이라는 전망에도 불구하고 고급 제품을 찾는 고객들의 발길은 줄지 않을 것이라는 판단에 따라 고객 유치 활동을 더 적극적으로 하겠다는 계산이다. \\n\\n신세계백화점은 17일 지난해 12월부터 두 달 동안 진행한 강남점 리뉴얼 공사를 끝내고 7층에 300평 규모의 프리미엄 골프 전문관을 선보였다고 19일 밝혔다.\\n\\n골프 전문관에서는 기존 22개 브랜드를 리뉴얼하고 6개의 신규 브랜드를 론칭, 28개 브랜드를 선보였다.\\n\\n신세계백화점은 이번 리뉴얼을 통해 프리미엄 골프웨어 브랜드 마케팅에 박차를 가한다는 계획이다. 세계에서 처음 보스 골프가 터를 잡은 것이 대표적이다. 보스 골프는 트렌디한 스타일의 골프웨어를 선보이는데 카멜, 화이트, 블랙 등 세 가지 컬러와 삼색 아이코닉 스트라이프 디자인이 특징이다. \\n\\n또 PXG어패럴과 스웨덴 골프웨어 브랜드 제이린드버그 등 프리미엄 라인을 리뉴얼하고 MZ세대 골퍼를 겨냥해 2020년 만든 골프웨어 편집숍 에스타일 골프도 재단장해 바이스 골프, 어뉴 골프 등 합리적 가격대의 골프웨어를 소개했다.\\n\\n백화점 업계에서 하나뿐인 직영 골프 매장 신세계골프샵은 인테리어를 고급화하고 최신 시설로 단장했다. 라운드 콘셉트의 스튜디오형 시타실에는 체계적이고 전문적인 스윙 분석을 제공하는 볼탄도 추적기 트랙맨을 들여와 골퍼들이 자신에게 맞는 클럽을 찾는 데 도움을 준다.\\n\\n신세계백화점 관계자는 \"편집숍에서는 2030을, PXG지포어보스 등은 4050을 겨냥하는 등 골프 전문관에서는 모든 연령대를 타깃으로 브랜드를 세분화했다\"고 말했다.\\n\\n백화점들, 코로나19 기간 동안 골프 마케팅 강화\\n신종 코로나바이러스 감염증 유행 기간 동안 백화점들은 MZ세대까지 골프 붐이 일자 기존 4050 타깃 브랜드보다 트렌디한 브랜드를 모아 편집숍을 열고, 새로운 골프웨어 브랜드 매장을 유치하는 등 관련 분야를 강화했다.\\n\\n현대백화점 무역센터점은 지난해 8월 골프전문관을 리뉴얼해 신규 브랜드 8개를 포함해 22개의 골프 브랜드를 입점시켰다. 현대백화점의 패션계열사 한섬은 지난해 8월 럭셔리 골프웨어 랑방블랑을 론칭해 백화점 3사에 모두 입점하기도 했다. 신세계백화점의 골프웨어 매출은 전년 대비 2020년 15%, 2021년 56%, 지난해 34%가 증가하는 등 해마다 두 자릿수 성장을 이어왔다. \\n\\n다만 올해는 고물가, 고금리 영향으로 경제 불황이 본격화하며 골프 시장의 성장세도 둔화될 것이란 전망이 나온다. 실제로 지난달 신세계백화점의 골프웨어 매출 성장률은 전년 같은 달 대비 7%가 늘어나는 데 그쳤다.\\n\\n신세계백화점 관계자는 \"불황이지만 럭셔리 골프 용품 수요는 줄지 않을 것으로 본다\"며 \"이를 찾는 고객들이 더 좋은 환경에서 쇼핑할 수 있게 신경 쓰는 부분을 늘려 나갈 것\"이라고 전했다.',\n",
       " 'image': {'http://thumbnews.nateimg.co.kr/view610///news.nateimg.co.kr/orgImg/hi/2023/02/19/f64ad578-5f6e-4cb6-9701-115c3f1dee5c.jpg': '',\n",
       "  'http://thumbnews.nateimg.co.kr/view610///news.nateimg.co.kr/orgImg/hi/2023/02/19/bd573ae4-4928-4cde-8264-c84735249a71.jpg': ''}}"
      ]
     },
     "execution_count": 43,
     "metadata": {},
     "output_type": "execute_result"
    }
   ],
   "source": [
    "news_list[0].get_dict()"
>>>>>>> f1db59e (Style: no change)
   ]
  },
  {
   "cell_type": "code",
=======
>>>>>>> a4336c8 (Style: minor thing)
   "execution_count": null,
   "metadata": {},
   "outputs": [],
   "source": [
    "news_list[0].get_dict()"
   ]
  }
 ],
 "metadata": {
  "kernelspec": {
   "display_name": "crawl",
   "language": "python",
   "name": "python3"
  },
  "language_info": {
   "codemirror_mode": {
    "name": "ipython",
    "version": 3
   },
   "file_extension": ".py",
   "mimetype": "text/x-python",
   "name": "python",
   "nbconvert_exporter": "python",
   "pygments_lexer": "ipython3",
   "version": "3.8.15"
  },
  "orig_nbformat": 4,
  "vscode": {
   "interpreter": {
    "hash": "3447cba054c3ea2bf40cff543843e9ecd2b44ea64abace9c165511e54225c5e4"
   }
  }
 },
 "nbformat": 4,
 "nbformat_minor": 2
}
