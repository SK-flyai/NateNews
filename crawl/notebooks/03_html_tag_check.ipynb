{
 "cells": [
  {
   "cell_type": "code",
   "execution_count": 2,
   "metadata": {},
   "outputs": [],
   "source": [
    "%load_ext autoreload\n",
    "%autoreload 2"
   ]
  },
  {
   "cell_type": "code",
   "execution_count": 3,
   "metadata": {},
   "outputs": [],
   "source": [
    "import requests\n",
    "import re\n",
    "\n",
    "from bs4 import BeautifulSoup as bs"
   ]
  },
  {
   "cell_type": "code",
   "execution_count": 4,
   "metadata": {},
   "outputs": [],
   "source": [
    "def preprocessing(article):\n",
    "    MESSAGE = '지원하지 않는 브라우저로 접근하셨습니다.\\nInternet Explorer 10 이상으로 업데이트 해주시거나, 최신 버전의 Chrome에서 정상적으로 이용이 가능합니다.'\n",
    "\n",
    "    article_text = str(article)\n",
    "        \n",
    "    pattern = '\\[[^\\]]*\\]' # [] 내부 모두 제거\n",
    "    tmp = re.sub(pattern, '', article_text)\n",
    "\n",
    "    tmp = tmp.replace('\\n', '').replace('\\t', '').replace('\\r', '') # 공백 제거\n",
    "    pattern = \"<br/?>\" # <br> 태그 -> 개행으로 변경\n",
    "    tmp = re.sub(pattern, '\\n', tmp)\n",
    "    \n",
    "    # 캡션 표시\n",
    "    pattern = re.compile('(<p style=\"[^>]*>)([^<]*)(</p>)')\n",
    "    result = pattern.finditer(tmp)\n",
    "    for r in result:\n",
    "        tmp = tmp.replace(r.group(), f\"[{r.group(2)}]\")\n",
    "    # 캡션 표시\n",
    "    pattern = re.compile('(<span class=\"sub_tit\">)([^<]*)(</span>)')\n",
    "    result = pattern.finditer(tmp)\n",
    "\n",
    "    for r in result:\n",
    "        tmp = tmp.replace(r.group(), f\"[{r.group(2)}]\")\n",
    "    \n",
    "    # print('after ###### caption eliminate')\n",
    "    # print(tmp)\n",
    "    pattern = \"</?p[^>]*>\" # <p> or </p> -> 개행으로 변경\n",
    "    tmp = re.sub(pattern, '\\n', tmp)\n",
    "    \n",
    "    pattern = \"<caption>[^>]+>\" # caption 제거\n",
    "    tmp = re.sub(pattern, '', tmp)\n",
    "\n",
    "    pattern = \"<a.+</a>\" # [a] 태그 제거\n",
    "    tmp = re.sub(pattern, '', tmp)\n",
    "\n",
    "    pattern = \"<img[^>]+>\" # img들 모두 제거\n",
    "    tmp = re.sub(pattern, '\\n[IMAGE]\\n', tmp)\n",
    "    content = bs(tmp, 'html.parser') # 다시 parsing\n",
    "    tmp = re.sub(' {2,}', ' ', content.text)\n",
    "\n",
    "    pattern = \"<[^>]*>\" # <> 내부 모두 제거\n",
    "    text = re.sub(pattern, '', tmp)\n",
    "    \n",
    "    pattern = \"\\([^\\)]*\\)\" # () 내부 모두 제거\n",
    "    text = re.sub(pattern, '', text)\n",
    "    \n",
    "    last_text = ('').join([word for word in text if word.isalpha() or ord(word) < 128])\n",
    "    text = last_text.replace(MESSAGE, '')\n",
    "    \n",
    "    pattern = '[a-zA-Z0-9+-_.]+@[a-zA-Z0-9+-_]+.com'\n",
    "    text = re.sub(pattern, '', text)\n",
    "    pattern = '[a-zA-Z0-9+-_.]+@[a-zA-Z0-9+-_]+.co.kr'\n",
    "    text = re.sub(pattern, '', text)\n",
    "    pattern = '[a-zA-Z0-9+-_.]+@'\n",
    "    text = re.sub(pattern, '', text)\n",
    "    \n",
    "    text = re.sub('\\n ', '\\n\\n', text)\n",
    "    text = re.sub('-\\n', '\\n\\n', text)\n",
    "    text = re.sub('\\n{2,}', '\\n\\n', text)\n",
    "    \n",
    "    while text[0] == ' ' or text[0] == '\\n':\n",
    "        text = text[1:]\n",
    "    if text[0] == ']': text = text[1:]\n",
    "    while text[-1] == ' ' or text[-1] == '\\n':\n",
    "        text = text[:-1]\n",
    "    text = text.replace('기사내용 요약', '[기사내용 요약]\\n')\n",
    "\n",
    "    return text"
   ]
  },
  {
   "cell_type": "code",
   "execution_count": 5,
   "metadata": {},
   "outputs": [],
   "source": [
    "URL = \"https://news.nate.com/view/20230209n11296\"\n",
    "\n",
    "req = requests.get(URL)\n",
    "content = bs(req.text, 'html.parser')"
   ]
  },
  {
   "cell_type": "code",
   "execution_count": 6,
   "metadata": {},
   "outputs": [
    {
     "name": "stdout",
     "output_type": "stream",
     "text": [
      "Title: 이상민 탄핵소추의결서 헌재 제출…\"신속한 결정 기대\"(종합)\n"
     ]
    }
   ],
   "source": [
    "try:\n",
    "    # title\n",
    "    title = content.find('h3', {'class': 'viewTite'})\n",
    "    if not title:\n",
    "        title = content.find('h3', {'class': 'articleSubecjt'})\n",
    "    print('Title: ' + title.text)\n",
    "except:\n",
    "    print('Title Error!\\n')\n",
    "\n",
    "try:\n",
    "    # category\n",
    "    nav = content.find('div', {'class': 'snbArea'})\n",
    "    category = nav.find('li', {'class': 'on'})\n",
    "    print('Category: ', end='')\n",
    "    print(category.text if category else 'X')\n",
    "except:\n",
    "    print('Category Error!\\n')\n",
    "    \n",
    "try:\n",
    "    # press\n",
    "    _press = content.find('a', {'class': 'medium'})\n",
    "    if _press:\n",
    "        press = _press.text\n",
    "    else:\n",
    "        press = content.find('dl', {'class': 'articleInfo'})\n",
    "    print('Press: ' + press)\n",
    "except:\n",
    "    print('Press Error!\\n')\n",
    "\n",
    "try:\n",
    "    # date\n",
    "    date = content.find('em').text\n",
    "    print('Date: ' + date[:10])\n",
    "except:\n",
    "    print('Date Error!\\n')\n",
    "\n",
    "try:\n",
    "    # content\n",
    "    article = content.find('div',{'id': 'articleContetns'})\n",
    "    print(preprocessing(article))\n",
    "except:\n",
    "    print('Content Error!\\n')"
   ]
  },
  {
   "cell_type": "code",
   "execution_count": 10,
   "metadata": {},
   "outputs": [
    {
     "name": "stdout",
     "output_type": "stream",
     "text": [
      "Date: 2023-02-09\n"
     ]
    }
   ],
   "source": []
  },
  {
   "cell_type": "code",
   "execution_count": 36,
   "metadata": {},
   "outputs": [
    {
     "name": "stdout",
     "output_type": "stream",
     "text": [
      "與소속 김도읍 소추위원\"탄핵당할 만큼 법률 위반인지 국민이 판단할 것\"\n",
      "소추의결서 내용엔 \"국정조사 내용 그 이상도 이하도 아닌 것 확인돼\"\n",
      "\n",
      "[IMAGE]\n",
      "[이상민 장관 탄핵소추의결서 헌재 제출\n",
      "\n",
      "한상균 기자 = 정성희 국회 법제사법위원회 수석전문위원이 9일 오전 헌법재판소에서 이상민 행정안전부 장관 탄핵 소추 의결서를 제출하고 있다. 2023.2.9 ]\n",
      "\n",
      "이슬기 기자 = 국회는 이상민 행정안전부 장관 탄핵 소추의결서를 9일 오전 10시 헌법재판소에 제출했다.\n",
      "\n",
      "탄핵 심판에서 검사 역할을 담당할 김도읍 법제사법위원장은 이날 언론에 문자 메시지를 보내 이같이 밝혔다.\n",
      "\n",
      "김 위원장은 탄핵 소추의결서를 정성희 법사위 수석전문위원에게 위임해 제출했다.\n",
      "\n",
      "앞서 더불어민주당 등 야 3당은 이태원 참사 부실 대응을 이유로 발의한 이 장관 탄핵 소추안을 전날 국회 본회의에서 여당인 국민의힘 반대를 뚫고 가결시켰다.\n",
      "\n",
      "헌재로 넘어간 탄핵 심판에서 국민의힘 소속 김도읍 법제사법위원장은 국회법과 헌법재판소법상 이 장관 탄핵을 주장해야 하는 검사 역할을 맡게 된다.\n",
      "\n",
      "김 위원장은 이날 오전 국회에서 기자들과 만나 \"그간 민주당이 주장했던 내용과 소추의결서도 공개돼 있으니 법리적으로  검토할 필요는 없다\"며 정치권 안팎의 예상보다 빠르게 의결서를 제출한 이유를 설명했다.\n",
      "\n",
      "그는 \"행안부 장관의 자리를 비워놓을 수밖에 없어서 국정 공백이 생겼다. 고스란히 나라의 손실이고 국민께 피해가 갈 수 있다\"며 \"국정 공백기를 최소화해야 한다는 점에서 헌재가 심판 절차를 신속하게 했으면 좋겠다\"고 말했다.\n",
      "\n",
      "그러면서 \" 재판관님들의 권한 범위내에 있지만, 집중심리 등 배려 속에 심판이 신속하게 결정이 나길 바란다\"고 덧붙였다.\n",
      "\n",
      "[IMAGE]\n",
      "[발언하는 김도읍 법사위원장\n",
      "연합뉴스 자료 사진 ]\n",
      "\n",
      "전날 가결된 소추의결서의 내용과 관련해선 \"어제 상당한 물량의 증거자료와 참고자료를 함께 받았고, 그게 고스란히 헌재로 갈 것\"이라며 \"국민들도 공개적으로 다 보셨겠지만, 국정조사에서 나왔던 내용 그 이상도 이하도 아닌 것이 확인됐다\"고 말했다.\n",
      "\n",
      "그는 \"소추의결서에 담긴 내용처럼 구체적이고 실체적으로 국무위원이 탄핵을 당할 만큼 중대한 법률을 위반했는지에 대해선 국민이 판단할 것\"이라고도 덧붙였다.\n",
      "\n",
      "야당 일각에서 국민의힘 소속인 김 위원장이 탄핵 소추위원 역할을 제대로 할 수 있는지 의구심을 제기하는 데 대해선 \"민주당은 법사위원장인 김도읍이 소추위원이 되는 것을 모르고 탄핵 소추를 밀어붙인 것은 아니지 않는가\"라며 \" 법률적으로 주어진 지위\"라고 했다.\n",
      "\n",
      "[IMAGE]\n",
      "[이상민 장관 탄핵소추안 제안설명\n",
      "\n",
      "이정훈 기자 = 더불어민주당 김승원 의원이 8일 오후 국회 본회의장에서 이상민 행정안전부 장관 탄핵소추안에 대한 제안설명을 위해 단상으로 이동하고 있다. 2023.2.8 ]\n",
      "그러면서 \"헌재는 민주당이 제출한 증거자료, 참고자료와 함께 이 장관이 대응하는 자료를 보고 나서 판단할 것\"이라며 \"제가 개입할 여지가 없다. '드라이'한 상황\"이라고 덧붙였다.\n",
      "\n",
      "이와 함께 김 위원장은 향후 탄핵 심판 과정에서 국회 소추위원단과 대리인단 등 구성 여부와 관련해선 1차 변론 기일 전까지 시간을 두고 고민해보겠다고 밝혔다.\n",
      "\n",
      "헌재 심판 규칙 57조엔 '소추위원은 변호사를 대리인으로 선임해 탄핵 심판을 수행하게 할 수 있다'고만 규정돼 있어, 소추위원단 및 대리인단 구성은 김 위원장의 재량에 달렸다.\n",
      "\n",
      "앞서 2017년 박근혜 전 대통령의 탄핵 심판에서는 여야가 함께 참여하는 소추위원단이 꾸려졌다. 2021년 임성근 부장판사 탄핵에선 당시 탄핵을 추진했던 민주당이 사건 규모 등을 고려해 국회 소추위원단을 구성하지 않았다.\n"
     ]
    }
   ],
   "source": []
  }
 ],
 "metadata": {
  "kernelspec": {
   "display_name": "crawl",
   "language": "python",
   "name": "python3"
  },
  "language_info": {
   "codemirror_mode": {
    "name": "ipython",
    "version": 3
   },
   "file_extension": ".py",
   "mimetype": "text/x-python",
   "name": "python",
   "nbconvert_exporter": "python",
   "pygments_lexer": "ipython3",
   "version": "3.8.16"
  },
  "orig_nbformat": 4,
  "vscode": {
   "interpreter": {
    "hash": "e061e6b29865f55b6a4dcb2bf42e53ae7c806c5be6808ab773025e9e34c6a5a2"
   }
  }
 },
 "nbformat": 4,
 "nbformat_minor": 2
}
