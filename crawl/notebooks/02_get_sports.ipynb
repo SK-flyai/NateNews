{
 "cells": [
  {
   "cell_type": "code",
   "execution_count": 11,
   "metadata": {},
   "outputs": [
    {
     "name": "stdout",
     "output_type": "stream",
     "text": [
      "The autoreload extension is already loaded. To reload it, use:\n",
      "  %reload_ext autoreload\n"
     ]
    }
   ],
   "source": [
    "%load_ext autoreload\n",
    "%autoreload 2"
   ]
  },
  {
   "attachments": {},
   "cell_type": "markdown",
   "metadata": {},
   "source": [
    "### SportsNews Crawl\n",
    "* 날짜와 기사 개수를 입력해서 `pd.DatFrame` 형태로 받아오기"
   ]
  },
  {
   "attachments": {},
   "cell_type": "markdown",
   "metadata": {},
   "source": [
    "1. 상위 경로에 존재하는 `utils.py` 에 접근하기 위해 경로 추가"
   ]
  },
  {
   "cell_type": "code",
   "execution_count": 1,
   "metadata": {},
   "outputs": [],
   "source": [
    "import sys\n",
    "sys.path.append('..')"
   ]
  },
  {
   "attachments": {},
   "cell_type": "markdown",
   "metadata": {},
   "source": [
    "2. 뉴스 크롤을 위한 import"
   ]
  },
  {
   "cell_type": "code",
   "execution_count": 2,
   "metadata": {},
   "outputs": [],
   "source": [
    "from utils import get_urls, get_news, get_news_df"
   ]
  },
  {
   "attachments": {},
   "cell_type": "markdown",
   "metadata": {},
   "source": [
    "3. 주소 list 생성하기"
   ]
  },
  {
   "attachments": {},
   "cell_type": "markdown",
   "metadata": {},
   "source": [
    "```py\n",
    "url_list = get_urls()\n",
    "# 오늘 뉴스 기사들 주소\n",
    "\n",
    "url_list = get_urls(20220301)\n",
    "# 2022년 03월 01일의 뉴스 기사들 주소\n",
    "\n",
    "url_list = get_urls(artc1=5000)\n",
    "# 오늘 뉴스 기사들 주소(5천 번째 기사부터)\n",
    "\n",
    "url_list = get_urls(20220301, 20220302)\n",
    "# 2022년 03월 01일부터 2022년 03월 02일까지의 뉴스 기사들 주소\n",
    "\n",
    "url_list = get_urls(20220301, artc1=5000)\n",
    "# 2022년 03월 01일의 뉴스 기사들 주소(5천번째 기사부터)\n",
    "\n",
    "url_list = get_urls(20220301, artc1=5000, artc2=7000)\n",
    "# 2022년 03월 01일의 뉴스 기사들 주소(5천 번째 ~ 7천 번째 기사까지)\n",
    "\n",
    "url_list = get_urls(20220301, 20220302, artc1=5000, artc2=7000)\n",
    "# 2022년 03월 01일부터 2022년 03월 02일까지의 기사들 주소(5천 번째 ~ 7천 번째 기사까지)\n",
    "```"
   ]
  },
  {
   "cell_type": "code",
   "execution_count": 16,
   "metadata": {},
   "outputs": [],
   "source": [
    "# url_list 생성\n",
    "# 2022년 3월 1일의 기사들 주소 1000개를 받아 오기\n",
    "url_list = get_urls(20220301, artc1=1, artc2=1000)"
   ]
  },
  {
   "cell_type": "code",
   "execution_count": 17,
   "metadata": {},
   "outputs": [
    {
     "name": "stdout",
     "output_type": "stream",
     "text": [
      "1000\n",
      "['https://news.nate.com/view/20220301n00001', 'https://news.nate.com/view/20220301n00002', 'https://news.nate.com/view/20220301n00003', 'https://news.nate.com/view/20220301n00004', 'https://news.nate.com/view/20220301n00005']\n"
     ]
    }
   ],
   "source": [
    "# url 확인\n",
    "print(len(url_list))\n",
    "print(url_list[:5])"
   ]
  },
  {
   "attachments": {},
   "cell_type": "markdown",
   "metadata": {},
   "source": [
    "4. 생성된 `url_list` 를 이용해서 `SportsNews` 객체 생성\n",
    "\n",
    "* 다음의 경우에만 `NateNews` 객체를 생성한다\n",
    "    1. 기사가 존재한다\n",
    "    2. '스포츠' 기사이다(_'연예', '뉴스' 는 제외_)\n",
    "    3. <span style=\"color:gray\">영어 뉴스 제외 예정</span>\n",
    "    3. <span style=\"color:gray\">포토 뉴스 제외 예정</span>"
   ]
  },
  {
   "cell_type": "code",
   "execution_count": 18,
   "metadata": {},
   "outputs": [],
   "source": [
    "# news_list 생성(1000개 기준 대략 1분 전후 소요)\n",
    "# 10,000개쯤(10min)에서 TimeoutError 발생 \n",
    "news_list = get_news(url_list)"
   ]
  },
  {
   "cell_type": "code",
   "execution_count": 19,
   "metadata": {},
   "outputs": [
    {
     "name": "stdout",
     "output_type": "stream",
     "text": [
      "23\n"
     ]
    }
   ],
   "source": [
    "# 위의 조건에 부합하는 뉴스 기사의 개수\n",
    "print(len(news_list))"
   ]
  },
  {
   "cell_type": "code",
   "execution_count": 20,
   "metadata": {},
   "outputs": [],
   "source": [
    "# 23개의 뉴스로 DataFrame 생성\n",
    "news_df = get_news_df(news_list)"
   ]
  },
  {
   "cell_type": "code",
   "execution_count": 21,
   "metadata": {},
   "outputs": [
    {
     "data": {
      "text/html": [
       "<div>\n",
       "<style scoped>\n",
       "    .dataframe tbody tr th:only-of-type {\n",
       "        vertical-align: middle;\n",
       "    }\n",
       "\n",
       "    .dataframe tbody tr th {\n",
       "        vertical-align: top;\n",
       "    }\n",
       "\n",
       "    .dataframe thead th {\n",
       "        text-align: right;\n",
       "    }\n",
       "</style>\n",
       "<table border=\"1\" class=\"dataframe\">\n",
       "  <thead>\n",
       "    <tr style=\"text-align: right;\">\n",
       "      <th></th>\n",
       "      <th>title</th>\n",
       "      <th>category</th>\n",
       "      <th>press</th>\n",
       "      <th>date</th>\n",
       "      <th>content</th>\n",
       "      <th>url</th>\n",
       "    </tr>\n",
       "  </thead>\n",
       "  <tbody>\n",
       "    <tr>\n",
       "      <th>0</th>\n",
       "      <td>MLB \"오늘까지 협약 못 하면 시즌 축소\" 류현진·김광현 '강제 한국살이' 길어지나</td>\n",
       "      <td>야구</td>\n",
       "      <td>서울신문</td>\n",
       "      <td>2022-02-28 18:51:00</td>\n",
       "      <td>\\n\\n스포츠 기사\\n\\n\\n\\n\\n\\n\\n\\n\\n\\n\\n\\t\\n\\t\\t\\t\\n\\n...</td>\n",
       "      <td>https://news.nate.com/view/20220301n00002</td>\n",
       "    </tr>\n",
       "    <tr>\n",
       "      <th>1</th>\n",
       "      <td>'더 강하게' 스파이크 같은 하이파이브로 소통하는 여자배구</td>\n",
       "      <td>스포츠일반</td>\n",
       "      <td>서울신문</td>\n",
       "      <td>2022-02-28 18:51:00</td>\n",
       "      <td>\\n\\n스포츠 기사\\n\\n\\n\\n\\n\\n\\n\\n\\n\\n\\n\\n\\n\\n\\n\\n\\n\\n...</td>\n",
       "      <td>https://news.nate.com/view/20220301n00003</td>\n",
       "    </tr>\n",
       "    <tr>\n",
       "      <th>2</th>\n",
       "      <td>골키퍼까지 다 쓴 승부차기…리버풀, 英리그컵 진땀 우승</td>\n",
       "      <td>해외축구</td>\n",
       "      <td>서울신문</td>\n",
       "      <td>2022-02-28 18:51:00</td>\n",
       "      <td>\\n\\n스포츠 기사\\n\\n\\n\\n\\n\\n\\n\\n\\n\\n\\n\\t\\n\\t\\t\\t\\n\\n...</td>\n",
       "      <td>https://news.nate.com/view/20220301n00004</td>\n",
       "    </tr>\n",
       "    <tr>\n",
       "      <th>3</th>\n",
       "      <td>FIFA, 러시아 지운다</td>\n",
       "      <td>축구</td>\n",
       "      <td>서울신문</td>\n",
       "      <td>2022-02-28 18:51:00</td>\n",
       "      <td>\\n\\n스포츠 기사\\n\\n\\n\\n\\n\\n\\n\\n\\n\\n\\n\\n\\n\\n\\n\\n\\n\\n...</td>\n",
       "      <td>https://news.nate.com/view/20220301n00005</td>\n",
       "    </tr>\n",
       "    <tr>\n",
       "      <th>4</th>\n",
       "      <td>'스카우트만 8번 보냈다' 맨유, 포르투갈 출신 MF 영입에 총력</td>\n",
       "      <td>해외축구</td>\n",
       "      <td>인터풋볼</td>\n",
       "      <td>2022-03-01 00:01:00</td>\n",
       "      <td>\\n\\n스포츠 기사\\n\\n\\n\\n\\n\\n\\n[인터풋볼]신인섭기자= 맨체스터 유나이티...</td>\n",
       "      <td>https://news.nate.com/view/20220301n00041</td>\n",
       "    </tr>\n",
       "  </tbody>\n",
       "</table>\n",
       "</div>"
      ],
      "text/plain": [
       "                                             title category press  \\\n",
       "0  MLB \"오늘까지 협약 못 하면 시즌 축소\" 류현진·김광현 '강제 한국살이' 길어지나       야구  서울신문   \n",
       "1                 '더 강하게' 스파이크 같은 하이파이브로 소통하는 여자배구    스포츠일반  서울신문   \n",
       "2                   골키퍼까지 다 쓴 승부차기…리버풀, 英리그컵 진땀 우승     해외축구  서울신문   \n",
       "3                                    FIFA, 러시아 지운다       축구  서울신문   \n",
       "4             '스카우트만 8번 보냈다' 맨유, 포르투갈 출신 MF 영입에 총력     해외축구  인터풋볼   \n",
       "\n",
       "                 date                                            content  \\\n",
       "0 2022-02-28 18:51:00  \\n\\n스포츠 기사\\n\\n\\n\\n\\n\\n\\n\\n\\n\\n\\n\\t\\n\\t\\t\\t\\n\\n...   \n",
       "1 2022-02-28 18:51:00  \\n\\n스포츠 기사\\n\\n\\n\\n\\n\\n\\n\\n\\n\\n\\n\\n\\n\\n\\n\\n\\n\\n...   \n",
       "2 2022-02-28 18:51:00  \\n\\n스포츠 기사\\n\\n\\n\\n\\n\\n\\n\\n\\n\\n\\n\\t\\n\\t\\t\\t\\n\\n...   \n",
       "3 2022-02-28 18:51:00  \\n\\n스포츠 기사\\n\\n\\n\\n\\n\\n\\n\\n\\n\\n\\n\\n\\n\\n\\n\\n\\n\\n...   \n",
       "4 2022-03-01 00:01:00  \\n\\n스포츠 기사\\n\\n\\n\\n\\n\\n\\n[인터풋볼]신인섭기자= 맨체스터 유나이티...   \n",
       "\n",
       "                                         url  \n",
       "0  https://news.nate.com/view/20220301n00002  \n",
       "1  https://news.nate.com/view/20220301n00003  \n",
       "2  https://news.nate.com/view/20220301n00004  \n",
       "3  https://news.nate.com/view/20220301n00005  \n",
       "4  https://news.nate.com/view/20220301n00041  "
      ]
     },
     "execution_count": 21,
     "metadata": {},
     "output_type": "execute_result"
    }
   ],
   "source": [
    "# 결과 확인\n",
    "news_df.head()"
   ]
  },
  {
   "cell_type": "code",
   "execution_count": 23,
   "metadata": {},
   "outputs": [],
   "source": [
    "news_df.to_excel('news.xlsx', engine='xlsxwriter')"
   ]
  }
 ],
 "metadata": {
  "kernelspec": {
   "display_name": "crawl",
   "language": "python",
   "name": "python3"
  },
  "language_info": {
   "codemirror_mode": {
    "name": "ipython",
    "version": 3
   },
   "file_extension": ".py",
   "mimetype": "text/x-python",
   "name": "python",
   "nbconvert_exporter": "python",
   "pygments_lexer": "ipython3",
   "version": "3.8.16"
  },
  "orig_nbformat": 4,
  "vscode": {
   "interpreter": {
    "hash": "e061e6b29865f55b6a4dcb2bf42e53ae7c806c5be6808ab773025e9e34c6a5a2"
   }
  }
 },
 "nbformat": 4,
 "nbformat_minor": 2
}
