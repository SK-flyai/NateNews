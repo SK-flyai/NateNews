{
 "cells": [
  {
   "cell_type": "code",
   "execution_count": 2,
   "metadata": {},
   "outputs": [],
   "source": [
    "%load_ext autoreload\n",
    "%autoreload 2"
   ]
  },
  {
   "cell_type": "code",
   "execution_count": 3,
   "metadata": {},
   "outputs": [],
   "source": [
    "import sys\n",
    "sys.path.append('..')"
   ]
  },
  {
   "cell_type": "code",
   "execution_count": 4,
   "metadata": {},
   "outputs": [],
   "source": [
    "from bs4 import BeautifulSoup as bs\n",
    "import requests\n",
    "import re"
   ]
  },
  {
   "cell_type": "code",
   "execution_count": 5,
   "metadata": {},
   "outputs": [],
   "source": [
    "req = requests.get('https://news.nate.com/search?q=%E3%85%81%E3%84%B4%E3%85%87%E3%84%B9')"
   ]
  },
  {
   "cell_type": "code",
   "execution_count": 6,
   "metadata": {},
   "outputs": [],
   "source": [
    "html = bs(req.text, 'html.parser')"
   ]
  },
  {
   "cell_type": "code",
   "execution_count": 7,
   "metadata": {},
   "outputs": [],
   "source": [
    "# content = article.find('div', {'id': 'articleContetns'})\n",
    "articles = html.find_all('li', {'class': 'items'})"
   ]
  },
  {
   "cell_type": "code",
   "execution_count": 8,
   "metadata": {},
   "outputs": [],
   "source": [
    "title = articles[0].find('span', {'class': 'tit'}).text\n",
    "_content = articles[0].find('span', {'class': 'txt'}).text\n",
    "_content = re.sub('[\\n\\t\\r]+', ' ', _content)\n",
    "content = re.sub(' +', ' ', _content)\n",
    "time_press = articles[0].find('span', {'class': 'time'}).text\n",
    "tmp = re.sub('[\\n\\t\\r]+', ' ', time_press)\n",
    "tmp = re.sub(' +', ' ', tmp)\n",
    "press, time = tmp[:-18], tmp[-17:-1]\n",
    "image = f\"http:{articles[0].find('img').get('src')}\""
   ]
  },
  {
   "cell_type": "code",
   "execution_count": 9,
   "metadata": {},
   "outputs": [
    {
     "data": {
      "text/plain": [
       "'//news.nate.com/view/20040722n04944'"
      ]
     },
     "execution_count": 9,
     "metadata": {},
     "output_type": "execute_result"
    }
   ],
   "source": [
    "articles[0].find('a').get('href')"
   ]
  },
  {
   "cell_type": "code",
   "execution_count": 57,
   "metadata": {},
   "outputs": [
    {
     "name": "stdout",
     "output_type": "stream",
     "text": [
      "최초 보드형 온라인게임 '호버보드 ASDF' 출시\n",
      "세계 최초의 온라인 보드 라이딩게임 ‘호버보드 ASDF’로 올여름 게임시장에 도전한다. 최초의 성인용 온라인게임 ‘A3’의 개발사인 애니파크의 신작 ‘호버보드 ASDF’는 요즘 신세대들이 열광하는 레저스포츠인 ‘보드’와... \n",
      "더팩트\n",
      "2004.07.22 14:55\n",
      "http://thumbnews.nateimg.co.kr/news200x200///onimg.nate.com/orgImg/ss/2004/07/22/0723da021.jpg\n"
     ]
    }
   ],
   "source": [
    "print(title)\n",
    "print(content)\n",
    "print(press)\n",
    "print(time)\n",
    "print(image)"
   ]
  },
  {
   "cell_type": "code",
   "execution_count": 10,
   "metadata": {},
   "outputs": [],
   "source": [
    "from search import search_news"
   ]
  },
  {
   "cell_type": "code",
   "execution_count": 25,
   "metadata": {},
   "outputs": [],
   "source": [
    "tmp_dict = search_news('이재명')"
   ]
  },
  {
   "cell_type": "code",
   "execution_count": 26,
   "metadata": {},
   "outputs": [],
   "source": [
    "import json\n",
    "\n",
    "with open('keyword_tmp.json', 'w', -1, encoding='utf-8') as f:\n",
    "    json.dump(tmp_dict, f, indent=4, ensure_ascii=False)"
   ]
  },
  {
   "cell_type": "code",
   "execution_count": null,
   "metadata": {},
   "outputs": [],
   "source": []
  }
 ],
 "metadata": {
  "kernelspec": {
   "display_name": "crawl",
   "language": "python",
   "name": "python3"
  },
  "language_info": {
   "codemirror_mode": {
    "name": "ipython",
    "version": 3
   },
   "file_extension": ".py",
   "mimetype": "text/x-python",
   "name": "python",
   "nbconvert_exporter": "python",
   "pygments_lexer": "ipython3",
   "version": "3.8.15"
  },
  "orig_nbformat": 4,
  "vscode": {
   "interpreter": {
    "hash": "3447cba054c3ea2bf40cff543843e9ecd2b44ea64abace9c165511e54225c5e4"
   }
  }
 },
 "nbformat": 4,
 "nbformat_minor": 2
}
