{
 "cells": [
  {
   "cell_type": "code",
   "execution_count": 1,
   "metadata": {},
   "outputs": [],
   "source": [
    "%load_ext autoreload\n",
    "%autoreload 2"
   ]
  },
  {
   "cell_type": "code",
   "execution_count": 6,
   "metadata": {},
   "outputs": [],
   "source": [
    "import sys\n",
    "sys.path.append('C:\\Users\\013\\Desktop\\code\\NateNews\\ml')"
   ]
  },
  {
   "cell_type": "code",
   "execution_count": 3,
   "metadata": {},
   "outputs": [],
   "source": [
    "from newspred import NewsModel"
   ]
  },
  {
   "cell_type": "code",
   "execution_count": 5,
   "metadata": {},
   "outputs": [
    {
     "name": "stdout",
     "output_type": "stream",
     "text": [
      "c:\\Users\\013\\Desktop\\code\\NateNews\\crawl\\notebooks\n",
      "c:\\Users\\013\\anaconda3\\envs\\crawl\\python38.zip\n",
      "c:\\Users\\013\\anaconda3\\envs\\crawl\\DLLs\n",
      "c:\\Users\\013\\anaconda3\\envs\\crawl\\lib\n",
      "c:\\Users\\013\\anaconda3\\envs\\crawl\n",
      "\n",
      "C:\\Users\\013\\AppData\\Roaming\\Python\\Python38\\site-packages\n",
      "c:\\Users\\013\\anaconda3\\envs\\crawl\\lib\\site-packages\n",
      "c:\\Users\\013\\anaconda3\\envs\\crawl\\lib\\site-packages\\win32\n",
      "c:\\Users\\013\\anaconda3\\envs\\crawl\\lib\\site-packages\\win32\\lib\n",
      "c:\\Users\\013\\anaconda3\\envs\\crawl\\lib\\site-packages\\Pythonwin\n",
      "../../ml\n",
      "../../ml/\n"
     ]
    }
   ],
   "source": [
    "for i in sys.path:\n",
    "    print(i)"
   ]
  },
  {
   "cell_type": "code",
   "execution_count": null,
   "metadata": {},
   "outputs": [],
   "source": [
    "from newspred import NewsModel"
   ]
  }
 ],
 "metadata": {
  "kernelspec": {
   "display_name": "crawl",
   "language": "python",
   "name": "python3"
  },
  "language_info": {
   "codemirror_mode": {
    "name": "ipython",
    "version": 3
   },
   "file_extension": ".py",
   "mimetype": "text/x-python",
   "name": "python",
   "nbconvert_exporter": "python",
   "pygments_lexer": "ipython3",
   "version": "3.8.15"
  },
  "orig_nbformat": 4,
  "vscode": {
   "interpreter": {
    "hash": "3447cba054c3ea2bf40cff543843e9ecd2b44ea64abace9c165511e54225c5e4"
   }
  }
 },
 "nbformat": 4,
 "nbformat_minor": 2
}
