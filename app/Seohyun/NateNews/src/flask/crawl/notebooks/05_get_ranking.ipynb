{
 "cells": [
  {
   "attachments": {},
   "cell_type": "markdown",
   "metadata": {},
   "source": [
    "### Ranking news Crawl\n",
    "* 날짜와 일수를 입력해서 `pd.DatFrame` 형태로 받아오기"
   ]
  },
  {
   "attachments": {},
   "cell_type": "markdown",
   "metadata": {},
   "source": [
    "1. 상위 경로에 존재하는 `utils.py` 에 접근하기 위해 경로 추가"
   ]
  },
  {
   "cell_type": "code",
   "execution_count": 2,
   "metadata": {},
   "outputs": [],
   "source": [
    "import sys\n",
    "sys.path.append('..')"
   ]
  },
  {
   "attachments": {},
   "cell_type": "markdown",
   "metadata": {},
   "source": [
    "2. 뉴스 크롤을 위한 import"
   ]
  },
  {
   "cell_type": "code",
   "execution_count": 3,
   "metadata": {},
   "outputs": [],
   "source": [
    "from utils import get_news, get_news_df"
   ]
  },
  {
   "attachments": {},
   "cell_type": "markdown",
   "metadata": {},
   "source": [
    "3. 주소 list 생성하기"
   ]
  },
  {
   "cell_type": "code",
   "execution_count": 4,
   "metadata": {},
   "outputs": [],
   "source": [
    "import datetime as dt\n",
    "import requests\n",
    "\n",
    "from bs4 import BeautifulSoup as bs"
   ]
  },
  {
   "cell_type": "code",
   "execution_count": 5,
   "metadata": {},
   "outputs": [],
   "source": [
    "def get_rankings(date:str, day: int):\n",
    "    today = dt.datetime.strptime(date, '%Y%m%d')\n",
    "    if dt.datetime.strptime(date, '%Y%m%d') > dt.datetime.now():\n",
    "        date = dt.datetime.now().isoformat().replace('-','')[:8]\n",
    "\n",
    "    ranking_urls = list()\n",
    "    for _ in range(day):\n",
    "        req1 = requests.get(f\"https://news.nate.com/rank/interest?sc=all&p=day&date={date}&page=1\")\n",
    "        req2 = requests.get(f\"https://news.nate.com/rank/interest?sc=all&p=day&date={date}&page=2\")\n",
    "        \n",
    "        soup1 = bs(req1.text, 'html.parser')\n",
    "        soup2 = bs(req2.text, 'html.parser')\n",
    "        \n",
    "        main1 = soup1.find('div', {'class': 'postRankNews'})\n",
    "        main2 = soup2.find('div', {'class': 'postRankNews'})\n",
    "        \n",
    "        links1 = main1.find_all('a')\n",
    "        links2 = main2.find_all('a')\n",
    "        \n",
    "        links1 = ['https:' + link['href'].split('?')[0] for link in links1 if 'nate.com/view' in link['href']]\n",
    "        links2 = ['https:' + link['href'].split('?')[0] for link in links2 if 'nate.com/view' in link['href']]\n",
    "        ranking_urls += links1 + links2\n",
    "        \n",
    "        date = dt.datetime.strptime(date, \"%Y%m%d\") - dt.timedelta(days=1)\n",
    "        date = date.strftime('%Y%m%d')\n",
    "    return ranking_urls"
   ]
  },
  {
   "cell_type": "code",
   "execution_count": 6,
   "metadata": {},
   "outputs": [
    {
     "data": {
      "text/plain": [
       "10000"
      ]
     },
     "execution_count": 6,
     "metadata": {},
     "output_type": "execute_result"
    }
   ],
   "source": [
    "tmp = get_rankings('20230212', 100)\n",
    "len(tmp)\n",
    "# print(dt.date.today())"
   ]
  },
  {
   "cell_type": "code",
   "execution_count": 7,
   "metadata": {},
   "outputs": [
    {
     "data": {
      "text/plain": [
       "('https://news.nate.com/view/20230212n11163', 10000)"
      ]
     },
     "execution_count": 7,
     "metadata": {},
     "output_type": "execute_result"
    }
   ],
   "source": [
    "tmp[0], len(tmp)"
   ]
  },
  {
   "cell_type": "code",
   "execution_count": 8,
   "metadata": {},
   "outputs": [
    {
     "name": "stdout",
     "output_type": "stream",
     "text": [
      "Error occurs in https://news.nate.com/view/20230130n01721\n",
      "Error occurs in https://news.nate.com/view/20230128n01649\n",
      "Error occurs in https://news.nate.com/view/20230108n15372\n",
      "Error occurs in https://news.nate.com/view/20230108n15372\n",
      "Error occurs in https://news.nate.com/view/20221226n08525\n",
      "Error occurs in https://news.nate.com/view/20221202n22904\n",
      "Error occurs in https://news.nate.com/view/20221202n22904\n",
      "Error occurs in https://news.nate.com/view/20221119n08321\n",
      "Error occurs in https://news.nate.com/view/20221119n08321\n",
      "Error occurs in https://news.nate.com/view/20221117n01553\n",
      "Error occurs in https://news.nate.com/view/20221116n37734\n"
     ]
    }
   ],
   "source": [
    "news_list = get_news(tmp)"
   ]
  },
  {
   "cell_type": "code",
   "execution_count": 13,
   "metadata": {},
   "outputs": [
    {
     "data": {
      "text/plain": [
       "9688"
      ]
     },
     "execution_count": 13,
     "metadata": {},
     "output_type": "execute_result"
    }
   ],
   "source": [
    "len(news_list )"
   ]
  },
  {
   "cell_type": "code",
   "execution_count": 14,
   "metadata": {},
   "outputs": [
    {
     "name": "stdout",
     "output_type": "stream",
     "text": [
      "Error occurs\n",
      "https://news.nate.com/view/20230207n01777\n",
      "Error occurs\n",
      "https://news.nate.com/view/20230122n08726\n",
      "Error occurs\n",
      "https://news.nate.com/view/20221214n36726\n",
      "Error occurs\n",
      "https://news.nate.com/view/20221118n06626\n"
     ]
    }
   ],
   "source": [
    "news_df = get_news_df(news_list)"
   ]
  },
  {
   "cell_type": "code",
   "execution_count": 17,
   "metadata": {},
   "outputs": [
    {
     "name": "stdout",
     "output_type": "stream",
     "text": [
      "9684\n"
     ]
    }
   ],
   "source": [
    "print(len(news_df))\n",
    "news_df.to_excel('20230212to100.xlsx', index=False)"
   ]
  },
  {
   "cell_type": "code",
   "execution_count": 16,
   "metadata": {},
   "outputs": [
    {
     "data": {
      "text/html": [
       "<div>\n",
       "<style scoped>\n",
       "    .dataframe tbody tr th:only-of-type {\n",
       "        vertical-align: middle;\n",
       "    }\n",
       "\n",
       "    .dataframe tbody tr th {\n",
       "        vertical-align: top;\n",
       "    }\n",
       "\n",
       "    .dataframe thead th {\n",
       "        text-align: right;\n",
       "    }\n",
       "</style>\n",
       "<table border=\"1\" class=\"dataframe\">\n",
       "  <thead>\n",
       "    <tr style=\"text-align: right;\">\n",
       "      <th></th>\n",
       "      <th>title</th>\n",
       "      <th>category</th>\n",
       "      <th>press</th>\n",
       "      <th>date</th>\n",
       "      <th>content</th>\n",
       "      <th>url</th>\n",
       "    </tr>\n",
       "  </thead>\n",
       "  <tbody>\n",
       "    <tr>\n",
       "      <th>0</th>\n",
       "      <td>'스키동아리' 고대생 5명 참변…그랜저 문 찌그러져 탈출 못한 듯(종합2보)</td>\n",
       "      <td>사회</td>\n",
       "      <td>뉴스1</td>\n",
       "      <td>2023-02-12 16:31</td>\n",
       "      <td>[IMAGE]\\n[12일 오전 1시 23분쯤 평창군 대관령면 용산리의 한 회전교차로...</td>\n",
       "      <td>https://news.nate.com/view/20230212n11163</td>\n",
       "    </tr>\n",
       "    <tr>\n",
       "      <th>1</th>\n",
       "      <td>아파트 수영 강습 중 6살 아이 중태…강사는 \"기억 안 나\"</td>\n",
       "      <td>사회</td>\n",
       "      <td>SBS</td>\n",
       "      <td>2023-02-12 20:43</td>\n",
       "      <td>부산에서는 아파트 수영장에서 물에 빠졌던 어린이가 의식을 되찾지 못하고 있습니다. ...</td>\n",
       "      <td>https://news.nate.com/view/20230212n15060</td>\n",
       "    </tr>\n",
       "    <tr>\n",
       "      <th>2</th>\n",
       "      <td>매몰된 생후 20일 아기, 굳은 코피에 코 막혀도 버텨줬구나</td>\n",
       "      <td>세계</td>\n",
       "      <td>한겨레</td>\n",
       "      <td>2023-02-12 15:20</td>\n",
       "      <td>이정우의 한 컷 \\n\\n튀르키예 건물 잔해에서 기적의 생존\\n\\n[IMAGE]\\n\\...</td>\n",
       "      <td>https://news.nate.com/view/20230212n09737</td>\n",
       "    </tr>\n",
       "    <tr>\n",
       "      <th>3</th>\n",
       "      <td>[가족] 허가 번식장이라더니…뜬장과 오물 속 출산을 반복해 온 엄마개들</td>\n",
       "      <td>사회</td>\n",
       "      <td>한국일보</td>\n",
       "      <td>2023-02-12 16:08</td>\n",
       "      <td>6세 추정 푸들 진주, 1세 추정 믹스견 비비안\\n\\n[IMAGE]\\n\\n동물권행동...</td>\n",
       "      <td>https://news.nate.com/view/20230212n10770</td>\n",
       "    </tr>\n",
       "    <tr>\n",
       "      <th>4</th>\n",
       "      <td>첫발 떼자마자··· \"유보통합 철회\" 유치원 교사들 집단반발</td>\n",
       "      <td>사회</td>\n",
       "      <td>경향신문</td>\n",
       "      <td>2023-02-12 15:40</td>\n",
       "      <td>[IMAGE]\\n[12일 오후 서울 용산구 대통령실 인근 삼각지에서 전국교직원노동조...</td>\n",
       "      <td>https://news.nate.com/view/20230212n10227</td>\n",
       "    </tr>\n",
       "  </tbody>\n",
       "</table>\n",
       "</div>"
      ],
      "text/plain": [
       "                                        title category press  \\\n",
       "0  '스키동아리' 고대생 5명 참변…그랜저 문 찌그러져 탈출 못한 듯(종합2보)       사회   뉴스1   \n",
       "1           아파트 수영 강습 중 6살 아이 중태…강사는 \"기억 안 나\"       사회   SBS   \n",
       "2           매몰된 생후 20일 아기, 굳은 코피에 코 막혀도 버텨줬구나       세계   한겨레   \n",
       "3     [가족] 허가 번식장이라더니…뜬장과 오물 속 출산을 반복해 온 엄마개들       사회  한국일보   \n",
       "4           첫발 떼자마자··· \"유보통합 철회\" 유치원 교사들 집단반발       사회  경향신문   \n",
       "\n",
       "               date                                            content  \\\n",
       "0  2023-02-12 16:31  [IMAGE]\\n[12일 오전 1시 23분쯤 평창군 대관령면 용산리의 한 회전교차로...   \n",
       "1  2023-02-12 20:43  부산에서는 아파트 수영장에서 물에 빠졌던 어린이가 의식을 되찾지 못하고 있습니다. ...   \n",
       "2  2023-02-12 15:20  이정우의 한 컷 \\n\\n튀르키예 건물 잔해에서 기적의 생존\\n\\n[IMAGE]\\n\\...   \n",
       "3  2023-02-12 16:08  6세 추정 푸들 진주, 1세 추정 믹스견 비비안\\n\\n[IMAGE]\\n\\n동물권행동...   \n",
       "4  2023-02-12 15:40  [IMAGE]\\n[12일 오후 서울 용산구 대통령실 인근 삼각지에서 전국교직원노동조...   \n",
       "\n",
       "                                         url  \n",
       "0  https://news.nate.com/view/20230212n11163  \n",
       "1  https://news.nate.com/view/20230212n15060  \n",
       "2  https://news.nate.com/view/20230212n09737  \n",
       "3  https://news.nate.com/view/20230212n10770  \n",
       "4  https://news.nate.com/view/20230212n10227  "
      ]
     },
     "execution_count": 16,
     "metadata": {},
     "output_type": "execute_result"
    }
   ],
   "source": [
    "news_df.head()"
   ]
  },
  {
   "cell_type": "code",
   "execution_count": 22,
   "metadata": {},
   "outputs": [
    {
     "data": {
      "text/plain": [
       "1058"
      ]
     },
     "execution_count": 22,
     "metadata": {},
     "output_type": "execute_result"
    }
   ],
   "source": [
    "news_df.duplicated().sum()"
   ]
  },
  {
   "cell_type": "code",
   "execution_count": 25,
   "metadata": {},
   "outputs": [
    {
     "data": {
      "text/plain": [
       "1058"
      ]
     },
     "execution_count": 25,
     "metadata": {},
     "output_type": "execute_result"
    }
   ],
   "source": [
    "news_df.duplicated(['url']).sum()"
   ]
  },
  {
   "cell_type": "code",
   "execution_count": 26,
   "metadata": {},
   "outputs": [],
   "source": [
    "no_dupl_df = news_df.drop_duplicates(['url'])"
   ]
  },
  {
   "cell_type": "code",
   "execution_count": 27,
   "metadata": {},
   "outputs": [
    {
     "data": {
      "text/plain": [
       "(8626, 6)"
      ]
     },
     "execution_count": 27,
     "metadata": {},
     "output_type": "execute_result"
    }
   ],
   "source": [
    "no_dupl_df.shape"
   ]
  },
  {
   "cell_type": "code",
   "execution_count": null,
   "metadata": {},
   "outputs": [],
   "source": [
    "no_dupl_df.to_excel('20230212_100.xlsx', index=False)"
   ]
  },
  {
   "cell_type": "code",
   "execution_count": 6,
   "metadata": {},
   "outputs": [
    {
     "name": "stdout",
     "output_type": "stream",
     "text": [
      "The autoreload extension is already loaded. To reload it, use:\n",
      "  %reload_ext autoreload\n"
     ]
    }
   ],
   "source": [
    "%load_ext autoreload\n",
    "%autoreload 2"
   ]
  },
  {
   "cell_type": "code",
   "execution_count": 7,
   "metadata": {},
   "outputs": [],
   "source": [
    "import sys\n",
    "sys.path.append('..')\n",
    "from utils import get_news, get_news_df"
   ]
  },
  {
   "cell_type": "code",
   "execution_count": 13,
   "metadata": {},
   "outputs": [
    {
     "data": {
      "text/plain": [
       "[<news_crawl.NateNews at 0x7f9c526fe460>]"
      ]
     },
     "execution_count": 13,
     "metadata": {},
     "output_type": "execute_result"
    }
   ],
   "source": [
    "df = get_news('https://news.nate.com/view/20230213n00133')\n",
    "df"
   ]
  },
  {
   "cell_type": "code",
   "execution_count": 14,
   "metadata": {},
   "outputs": [
    {
     "data": {
      "text/html": [
       "<div>\n",
       "<style scoped>\n",
       "    .dataframe tbody tr th:only-of-type {\n",
       "        vertical-align: middle;\n",
       "    }\n",
       "\n",
       "    .dataframe tbody tr th {\n",
       "        vertical-align: top;\n",
       "    }\n",
       "\n",
       "    .dataframe thead th {\n",
       "        text-align: right;\n",
       "    }\n",
       "</style>\n",
       "<table border=\"1\" class=\"dataframe\">\n",
       "  <thead>\n",
       "    <tr style=\"text-align: right;\">\n",
       "      <th></th>\n",
       "      <th>title</th>\n",
       "      <th>category</th>\n",
       "      <th>press</th>\n",
       "      <th>date</th>\n",
       "      <th>content</th>\n",
       "      <th>url</th>\n",
       "    </tr>\n",
       "  </thead>\n",
       "  <tbody>\n",
       "    <tr>\n",
       "      <th>0</th>\n",
       "      <td>\"근처 지나다 현장 봤는데\"…동문 참변에 고대생들도 '충격·애도'</td>\n",
       "      <td>사회</td>\n",
       "      <td>뉴스1</td>\n",
       "      <td>2023-02-13 00:10</td>\n",
       "      <td>[IMAGE]\\n[12일 오전 1시 23분쯤 평창군 대관령면 용산리의 한 회전교차로...</td>\n",
       "      <td>https://news.nate.com/view/20230213n00133</td>\n",
       "    </tr>\n",
       "  </tbody>\n",
       "</table>\n",
       "</div>"
      ],
      "text/plain": [
       "                                  title category press              date  \\\n",
       "0  \"근처 지나다 현장 봤는데\"…동문 참변에 고대생들도 '충격·애도'       사회   뉴스1  2023-02-13 00:10   \n",
       "\n",
       "                                             content  \\\n",
       "0  [IMAGE]\\n[12일 오전 1시 23분쯤 평창군 대관령면 용산리의 한 회전교차로...   \n",
       "\n",
       "                                         url  \n",
       "0  https://news.nate.com/view/20230213n00133  "
      ]
     },
     "execution_count": 14,
     "metadata": {},
     "output_type": "execute_result"
    }
   ],
   "source": [
    "get_news_df(df)"
   ]
  },
  {
   "cell_type": "code",
   "execution_count": 15,
   "metadata": {},
   "outputs": [],
   "source": [
    "from news_crawl import NateNews"
   ]
  },
  {
   "cell_type": "code",
   "execution_count": 16,
   "metadata": {},
   "outputs": [],
   "source": [
    "new_class = NateNews('https://news.nate.com/view/20230209n12576')\n"
   ]
  },
  {
   "cell_type": "code",
   "execution_count": 17,
   "metadata": {},
   "outputs": [
    {
     "data": {
      "text/plain": [
       "'중앙일보'"
      ]
     },
     "execution_count": 17,
     "metadata": {},
     "output_type": "execute_result"
    }
   ],
   "source": [
    "new_class.press"
   ]
  },
  {
   "cell_type": "code",
   "execution_count": null,
   "metadata": {},
   "outputs": [],
   "source": []
  }
 ],
 "metadata": {
  "kernelspec": {
   "display_name": "crawl",
   "language": "python",
   "name": "python3"
  },
  "language_info": {
   "codemirror_mode": {
    "name": "ipython",
    "version": 3
   },
   "file_extension": ".py",
   "mimetype": "text/x-python",
   "name": "python",
   "nbconvert_exporter": "python",
   "pygments_lexer": "ipython3",
   "version": "3.8.16"
  },
  "orig_nbformat": 4,
  "vscode": {
   "interpreter": {
    "hash": "e061e6b29865f55b6a4dcb2bf42e53ae7c806c5be6808ab773025e9e34c6a5a2"
   }
  }
 },
 "nbformat": 4,
 "nbformat_minor": 2
}
