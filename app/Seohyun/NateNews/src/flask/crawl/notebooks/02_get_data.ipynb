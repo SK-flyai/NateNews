{
 "cells": [
  {
   "attachments": {},
   "cell_type": "markdown",
   "metadata": {},
   "source": [
    "### Press, Category별 본문 확인 코드"
   ]
  },
  {
   "cell_type": "code",
   "execution_count": 2,
   "metadata": {},
   "outputs": [],
   "source": [
    "import pandas as pd"
   ]
  },
  {
   "cell_type": "code",
   "execution_count": 27,
   "metadata": {},
   "outputs": [],
   "source": [
    "df = pd.read_excel('news_20220301_1790num.xlsx', index_col='Unnamed: 0')\n",
    "# or read_csv\n",
    "# 자신의 데이터 파일을 입력하세요(기존의 crawl 코드로 얻어지는 파일)"
   ]
  },
  {
   "cell_type": "code",
   "execution_count": 28,
   "metadata": {},
   "outputs": [
    {
     "data": {
      "text/html": [
       "<div>\n",
       "<style scoped>\n",
       "    .dataframe tbody tr th:only-of-type {\n",
       "        vertical-align: middle;\n",
       "    }\n",
       "\n",
       "    .dataframe tbody tr th {\n",
       "        vertical-align: top;\n",
       "    }\n",
       "\n",
       "    .dataframe thead th {\n",
       "        text-align: right;\n",
       "    }\n",
       "</style>\n",
       "<table border=\"1\" class=\"dataframe\">\n",
       "  <thead>\n",
       "    <tr style=\"text-align: right;\">\n",
       "      <th></th>\n",
       "      <th>title</th>\n",
       "      <th>category</th>\n",
       "      <th>press</th>\n",
       "      <th>date</th>\n",
       "      <th>content</th>\n",
       "      <th>url</th>\n",
       "    </tr>\n",
       "  </thead>\n",
       "  <tbody>\n",
       "    <tr>\n",
       "      <th>0</th>\n",
       "      <td>MLB \"오늘까지 협약 못 하면 시즌 축소\" 류현진·김광현 '강제 한국살이' 길어지나</td>\n",
       "      <td>야구</td>\n",
       "      <td>서울신문</td>\n",
       "      <td>2022-02-28 18:51:00</td>\n",
       "      <td>\\n\\n스포츠 기사\\n\\n\\n\\n\\n\\n\\n\\n\\n\\n\\n\\t\\n\\t\\t\\t\\n\\n...</td>\n",
       "      <td>https://news.nate.com/view/20220301n00002</td>\n",
       "    </tr>\n",
       "    <tr>\n",
       "      <th>1</th>\n",
       "      <td>더 강하게' 스파이크 같은 하이파이브로 소통하는 여자배구</td>\n",
       "      <td>스포츠일반</td>\n",
       "      <td>서울신문</td>\n",
       "      <td>2022-02-28 18:51:00</td>\n",
       "      <td>\\n\\n스포츠 기사\\n\\n\\n\\n\\n\\n\\n\\n\\n\\n\\n\\n\\n\\n\\n\\n\\n\\n...</td>\n",
       "      <td>https://news.nate.com/view/20220301n00003</td>\n",
       "    </tr>\n",
       "    <tr>\n",
       "      <th>2</th>\n",
       "      <td>골키퍼까지 다 쓴 승부차기…리버풀, 英리그컵 진땀 우승</td>\n",
       "      <td>해외축구</td>\n",
       "      <td>서울신문</td>\n",
       "      <td>2022-02-28 18:51:00</td>\n",
       "      <td>\\n\\n스포츠 기사\\n\\n\\n\\n\\n\\n\\n\\n\\n\\n\\n\\t\\n\\t\\t\\t\\n\\n...</td>\n",
       "      <td>https://news.nate.com/view/20220301n00004</td>\n",
       "    </tr>\n",
       "    <tr>\n",
       "      <th>3</th>\n",
       "      <td>FIFA, 러시아 지운다</td>\n",
       "      <td>축구</td>\n",
       "      <td>서울신문</td>\n",
       "      <td>2022-02-28 18:51:00</td>\n",
       "      <td>\\n\\n스포츠 기사\\n\\n\\n\\n\\n\\n\\n\\n\\n\\n\\n\\n\\n\\n\\n\\n\\n\\n...</td>\n",
       "      <td>https://news.nate.com/view/20220301n00005</td>\n",
       "    </tr>\n",
       "    <tr>\n",
       "      <th>4</th>\n",
       "      <td>스카우트만 8번 보냈다' 맨유, 포르투갈 출신 MF 영입에 총력</td>\n",
       "      <td>해외축구</td>\n",
       "      <td>인터풋볼</td>\n",
       "      <td>2022-03-01 00:01:00</td>\n",
       "      <td>\\n\\n스포츠 기사\\n\\n\\n\\n\\n\\n\\n[인터풋볼]신인섭기자= 맨체스터 유나이티...</td>\n",
       "      <td>https://news.nate.com/view/20220301n00041</td>\n",
       "    </tr>\n",
       "  </tbody>\n",
       "</table>\n",
       "</div>"
      ],
      "text/plain": [
       "                                             title category press  \\\n",
       "0  MLB \"오늘까지 협약 못 하면 시즌 축소\" 류현진·김광현 '강제 한국살이' 길어지나       야구  서울신문   \n",
       "1                  더 강하게' 스파이크 같은 하이파이브로 소통하는 여자배구    스포츠일반  서울신문   \n",
       "2                   골키퍼까지 다 쓴 승부차기…리버풀, 英리그컵 진땀 우승     해외축구  서울신문   \n",
       "3                                    FIFA, 러시아 지운다       축구  서울신문   \n",
       "4              스카우트만 8번 보냈다' 맨유, 포르투갈 출신 MF 영입에 총력     해외축구  인터풋볼   \n",
       "\n",
       "                 date                                            content  \\\n",
       "0 2022-02-28 18:51:00  \\n\\n스포츠 기사\\n\\n\\n\\n\\n\\n\\n\\n\\n\\n\\n\\t\\n\\t\\t\\t\\n\\n...   \n",
       "1 2022-02-28 18:51:00  \\n\\n스포츠 기사\\n\\n\\n\\n\\n\\n\\n\\n\\n\\n\\n\\n\\n\\n\\n\\n\\n\\n...   \n",
       "2 2022-02-28 18:51:00  \\n\\n스포츠 기사\\n\\n\\n\\n\\n\\n\\n\\n\\n\\n\\n\\t\\n\\t\\t\\t\\n\\n...   \n",
       "3 2022-02-28 18:51:00  \\n\\n스포츠 기사\\n\\n\\n\\n\\n\\n\\n\\n\\n\\n\\n\\n\\n\\n\\n\\n\\n\\n...   \n",
       "4 2022-03-01 00:01:00  \\n\\n스포츠 기사\\n\\n\\n\\n\\n\\n\\n[인터풋볼]신인섭기자= 맨체스터 유나이티...   \n",
       "\n",
       "                                         url  \n",
       "0  https://news.nate.com/view/20220301n00002  \n",
       "1  https://news.nate.com/view/20220301n00003  \n",
       "2  https://news.nate.com/view/20220301n00004  \n",
       "3  https://news.nate.com/view/20220301n00005  \n",
       "4  https://news.nate.com/view/20220301n00041  "
      ]
     },
     "execution_count": 28,
     "metadata": {},
     "output_type": "execute_result"
    }
   ],
   "source": [
    "df.head()"
   ]
  },
  {
   "cell_type": "code",
   "execution_count": 38,
   "metadata": {},
   "outputs": [],
   "source": [
    "######## for categories ########\n",
    "# df.loc[0]['content']\n",
    "# tmp_df = None\n",
    "# for press in df['press'].value_counts().index:\n",
    "#     tmp_press_df = df[df['press'] == press].iloc[:1]\n",
    "#     if tmp_df is None:\n",
    "#         tmp_df = tmp_press_df\n",
    "#     else:\n",
    "#         tmp_df = pd.concat([tmp_df, tmp_press_df], axis=0)\n",
    "\n",
    "######## for \n",
    "tmp_df = None\n",
    "for category in df['category'].value_counts().index:\n",
    "    tmp_press_df = df[df['category'] == category].iloc[:5]\n",
    "    if tmp_df is None:\n",
    "        tmp_df = tmp_press_df\n",
    "    else:\n",
    "        tmp_df = pd.concat([tmp_df, tmp_press_df], axis=0)"
   ]
  },
  {
   "cell_type": "code",
   "execution_count": 39,
   "metadata": {},
   "outputs": [
    {
     "data": {
      "text/html": [
       "<div>\n",
       "<style scoped>\n",
       "    .dataframe tbody tr th:only-of-type {\n",
       "        vertical-align: middle;\n",
       "    }\n",
       "\n",
       "    .dataframe tbody tr th {\n",
       "        vertical-align: top;\n",
       "    }\n",
       "\n",
       "    .dataframe thead th {\n",
       "        text-align: right;\n",
       "    }\n",
       "</style>\n",
       "<table border=\"1\" class=\"dataframe\">\n",
       "  <thead>\n",
       "    <tr style=\"text-align: right;\">\n",
       "      <th></th>\n",
       "      <th>title</th>\n",
       "      <th>category</th>\n",
       "      <th>press</th>\n",
       "      <th>date</th>\n",
       "      <th>content</th>\n",
       "      <th>url</th>\n",
       "    </tr>\n",
       "  </thead>\n",
       "  <tbody>\n",
       "    <tr>\n",
       "      <th>6</th>\n",
       "      <td>강소휘 대신 활약' 최은지, \"처음에는 속상했지만 이제 팀에 도움되고 싶어\" [장충...</td>\n",
       "      <td>농구/배구</td>\n",
       "      <td>OSEN</td>\n",
       "      <td>2022-03-01 00:04:00</td>\n",
       "      <td>\\n\\n스포츠 기사\\n\\n\\n\\n\\n\\n\\n\\n[OSEN=장충, 길준영 기자] “처...</td>\n",
       "      <td>https://news.nate.com/view/20220301n00118</td>\n",
       "    </tr>\n",
       "    <tr>\n",
       "      <th>32</th>\n",
       "      <td>현대건설, 빅매치 앞두고 코로나 악재</td>\n",
       "      <td>농구/배구</td>\n",
       "      <td>동아일보</td>\n",
       "      <td>2022-03-01 03:02:00</td>\n",
       "      <td>\\n\\n스포츠 기사\\n\\n\\n\\n\\n\\n선수 3명 의심증세로 훈련 제외오늘 2위 도...</td>\n",
       "      <td>https://news.nate.com/view/20220301n01251</td>\n",
       "    </tr>\n",
       "    <tr>\n",
       "      <th>52</th>\n",
       "      <td>살인 일정에 주춤한 현대건설 \"우리가 그냥 1위가 아니라는 것을…\"</td>\n",
       "      <td>농구/배구</td>\n",
       "      <td>OSEN</td>\n",
       "      <td>2022-03-01 04:13:00</td>\n",
       "      <td>\\n\\n스포츠 기사\\n\\n\\n\\n\\n\\n\\n\\n[OSEN=이상학 기자] 여자배구 역...</td>\n",
       "      <td>https://news.nate.com/view/20220301n01510</td>\n",
       "    </tr>\n",
       "    <tr>\n",
       "      <th>67</th>\n",
       "      <td>뉴욕 시장 \"카이리 어빙만 특혜줄 수 없다\"</td>\n",
       "      <td>농구/배구</td>\n",
       "      <td>MK스포츠</td>\n",
       "      <td>2022-03-01 05:35:00</td>\n",
       "      <td>\\n\\n스포츠 기사\\n\\n\\n\\n\\n\\t\\n\\t\\t\\t\\n\\n\\n에릭 애덤스 뉴욕시...</td>\n",
       "      <td>https://news.nate.com/view/20220301n02348</td>\n",
       "    </tr>\n",
       "    <tr>\n",
       "      <th>75</th>\n",
       "      <td>현대건설, 상승세 도로공사 누르고 1위 조기 확정지을까</td>\n",
       "      <td>농구/배구</td>\n",
       "      <td>머니S</td>\n",
       "      <td>2022-03-01 05:51:00</td>\n",
       "      <td>\\n\\n스포츠 기사\\n\\n\\n\\n\\n\\n\\n\\n현대건설이 1일 오후 4시 경기 수원...</td>\n",
       "      <td>https://news.nate.com/view/20220301n02487</td>\n",
       "    </tr>\n",
       "  </tbody>\n",
       "</table>\n",
       "</div>"
      ],
      "text/plain": [
       "                                                title category  press  \\\n",
       "6   강소휘 대신 활약' 최은지, \"처음에는 속상했지만 이제 팀에 도움되고 싶어\" [장충...    농구/배구   OSEN   \n",
       "32                               현대건설, 빅매치 앞두고 코로나 악재    농구/배구   동아일보   \n",
       "52              살인 일정에 주춤한 현대건설 \"우리가 그냥 1위가 아니라는 것을…\"    농구/배구   OSEN   \n",
       "67                           뉴욕 시장 \"카이리 어빙만 특혜줄 수 없다\"    농구/배구  MK스포츠   \n",
       "75                     현대건설, 상승세 도로공사 누르고 1위 조기 확정지을까    농구/배구    머니S   \n",
       "\n",
       "                  date                                            content  \\\n",
       "6  2022-03-01 00:04:00  \\n\\n스포츠 기사\\n\\n\\n\\n\\n\\n\\n\\n[OSEN=장충, 길준영 기자] “처...   \n",
       "32 2022-03-01 03:02:00  \\n\\n스포츠 기사\\n\\n\\n\\n\\n\\n선수 3명 의심증세로 훈련 제외오늘 2위 도...   \n",
       "52 2022-03-01 04:13:00  \\n\\n스포츠 기사\\n\\n\\n\\n\\n\\n\\n\\n[OSEN=이상학 기자] 여자배구 역...   \n",
       "67 2022-03-01 05:35:00  \\n\\n스포츠 기사\\n\\n\\n\\n\\n\\t\\n\\t\\t\\t\\n\\n\\n에릭 애덤스 뉴욕시...   \n",
       "75 2022-03-01 05:51:00  \\n\\n스포츠 기사\\n\\n\\n\\n\\n\\n\\n\\n현대건설이 1일 오후 4시 경기 수원...   \n",
       "\n",
       "                                          url  \n",
       "6   https://news.nate.com/view/20220301n00118  \n",
       "32  https://news.nate.com/view/20220301n01251  \n",
       "52  https://news.nate.com/view/20220301n01510  \n",
       "67  https://news.nate.com/view/20220301n02348  \n",
       "75  https://news.nate.com/view/20220301n02487  "
      ]
     },
     "execution_count": 39,
     "metadata": {},
     "output_type": "execute_result"
    }
   ],
   "source": [
    "tmp_df.head()"
   ]
  },
  {
   "cell_type": "code",
   "execution_count": 40,
   "metadata": {},
   "outputs": [],
   "source": [
    "tmp_df.to_excel('20220301_categories.xlsx', engine='xlsxwriter')"
   ]
  }
 ],
 "metadata": {
  "kernelspec": {
   "display_name": "crawl",
   "language": "python",
   "name": "python3"
  },
  "language_info": {
   "codemirror_mode": {
    "name": "ipython",
    "version": 3
   },
   "file_extension": ".py",
   "mimetype": "text/x-python",
   "name": "python",
   "nbconvert_exporter": "python",
   "pygments_lexer": "ipython3",
   "version": "3.8.16"
  },
  "orig_nbformat": 4,
  "vscode": {
   "interpreter": {
    "hash": "e061e6b29865f55b6a4dcb2bf42e53ae7c806c5be6808ab773025e9e34c6a5a2"
   }
  }
 },
 "nbformat": 4,
 "nbformat_minor": 2
}
